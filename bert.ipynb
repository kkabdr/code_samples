{
  "cells": [
    {
      "cell_type": "markdown",
      "metadata": {
        "id": "8J-0GcGNXmV6"
      },
      "source": [
        "#DATA PREP"
      ]
    },
    {
      "cell_type": "code",
      "execution_count": null,
      "metadata": {
        "colab": {
          "base_uri": "https://localhost:8080/"
        },
        "id": "3ckm3TIdYnxF",
        "outputId": "f28dec71-668e-4458-c451-afa8f6e71791"
      },
      "outputs": [
        {
          "output_type": "stream",
          "name": "stdout",
          "text": [
            "Requirement already satisfied: ktrain in /usr/local/lib/python3.10/dist-packages (0.41.3)\n",
            "Requirement already satisfied: scikit-learn in /usr/local/lib/python3.10/dist-packages (from ktrain) (1.2.2)\n",
            "Requirement already satisfied: matplotlib>=3.0.0 in /usr/local/lib/python3.10/dist-packages (from ktrain) (3.7.1)\n",
            "Requirement already satisfied: pandas>=1.0.1 in /usr/local/lib/python3.10/dist-packages (from ktrain) (2.0.3)\n",
            "Requirement already satisfied: fastprogress>=0.1.21 in /usr/local/lib/python3.10/dist-packages (from ktrain) (1.0.3)\n",
            "Requirement already satisfied: requests in /usr/local/lib/python3.10/dist-packages (from ktrain) (2.31.0)\n",
            "Requirement already satisfied: joblib in /usr/local/lib/python3.10/dist-packages (from ktrain) (1.4.0)\n",
            "Requirement already satisfied: packaging in /usr/local/lib/python3.10/dist-packages (from ktrain) (24.0)\n",
            "Requirement already satisfied: langdetect in /usr/local/lib/python3.10/dist-packages (from ktrain) (1.0.9)\n",
            "Requirement already satisfied: jieba in /usr/local/lib/python3.10/dist-packages (from ktrain) (0.42.1)\n",
            "Requirement already satisfied: charset-normalizer in /usr/local/lib/python3.10/dist-packages (from ktrain) (3.3.2)\n",
            "Requirement already satisfied: chardet in /usr/local/lib/python3.10/dist-packages (from ktrain) (5.2.0)\n",
            "Requirement already satisfied: syntok>1.3.3 in /usr/local/lib/python3.10/dist-packages (from ktrain) (1.4.4)\n",
            "Requirement already satisfied: tika in /usr/local/lib/python3.10/dist-packages (from ktrain) (2.6.0)\n",
            "Requirement already satisfied: transformers in /usr/local/lib/python3.10/dist-packages (from ktrain) (4.38.2)\n",
            "Requirement already satisfied: sentencepiece in /usr/local/lib/python3.10/dist-packages (from ktrain) (0.1.99)\n",
            "Requirement already satisfied: keras-bert>=0.86.0 in /usr/local/lib/python3.10/dist-packages (from ktrain) (0.89.0)\n",
            "Requirement already satisfied: whoosh in /usr/local/lib/python3.10/dist-packages (from ktrain) (2.7.4)\n",
            "Requirement already satisfied: numpy in /usr/local/lib/python3.10/dist-packages (from keras-bert>=0.86.0->ktrain) (1.25.2)\n",
            "Requirement already satisfied: keras-transformer==0.40.0 in /usr/local/lib/python3.10/dist-packages (from keras-bert>=0.86.0->ktrain) (0.40.0)\n",
            "Requirement already satisfied: keras-pos-embd==0.13.0 in /usr/local/lib/python3.10/dist-packages (from keras-transformer==0.40.0->keras-bert>=0.86.0->ktrain) (0.13.0)\n",
            "Requirement already satisfied: keras-multi-head==0.29.0 in /usr/local/lib/python3.10/dist-packages (from keras-transformer==0.40.0->keras-bert>=0.86.0->ktrain) (0.29.0)\n",
            "Requirement already satisfied: keras-layer-normalization==0.16.0 in /usr/local/lib/python3.10/dist-packages (from keras-transformer==0.40.0->keras-bert>=0.86.0->ktrain) (0.16.0)\n",
            "Requirement already satisfied: keras-position-wise-feed-forward==0.8.0 in /usr/local/lib/python3.10/dist-packages (from keras-transformer==0.40.0->keras-bert>=0.86.0->ktrain) (0.8.0)\n",
            "Requirement already satisfied: keras-embed-sim==0.10.0 in /usr/local/lib/python3.10/dist-packages (from keras-transformer==0.40.0->keras-bert>=0.86.0->ktrain) (0.10.0)\n",
            "Requirement already satisfied: keras-self-attention==0.51.0 in /usr/local/lib/python3.10/dist-packages (from keras-multi-head==0.29.0->keras-transformer==0.40.0->keras-bert>=0.86.0->ktrain) (0.51.0)\n",
            "Requirement already satisfied: contourpy>=1.0.1 in /usr/local/lib/python3.10/dist-packages (from matplotlib>=3.0.0->ktrain) (1.2.1)\n",
            "Requirement already satisfied: cycler>=0.10 in /usr/local/lib/python3.10/dist-packages (from matplotlib>=3.0.0->ktrain) (0.12.1)\n",
            "Requirement already satisfied: fonttools>=4.22.0 in /usr/local/lib/python3.10/dist-packages (from matplotlib>=3.0.0->ktrain) (4.51.0)\n",
            "Requirement already satisfied: kiwisolver>=1.0.1 in /usr/local/lib/python3.10/dist-packages (from matplotlib>=3.0.0->ktrain) (1.4.5)\n",
            "Requirement already satisfied: pillow>=6.2.0 in /usr/local/lib/python3.10/dist-packages (from matplotlib>=3.0.0->ktrain) (9.4.0)\n",
            "Requirement already satisfied: pyparsing>=2.3.1 in /usr/local/lib/python3.10/dist-packages (from matplotlib>=3.0.0->ktrain) (3.1.2)\n",
            "Requirement already satisfied: python-dateutil>=2.7 in /usr/local/lib/python3.10/dist-packages (from matplotlib>=3.0.0->ktrain) (2.8.2)\n",
            "Requirement already satisfied: pytz>=2020.1 in /usr/local/lib/python3.10/dist-packages (from pandas>=1.0.1->ktrain) (2023.4)\n",
            "Requirement already satisfied: tzdata>=2022.1 in /usr/local/lib/python3.10/dist-packages (from pandas>=1.0.1->ktrain) (2024.1)\n",
            "Requirement already satisfied: regex>2016 in /usr/local/lib/python3.10/dist-packages (from syntok>1.3.3->ktrain) (2023.12.25)\n",
            "Requirement already satisfied: six in /usr/local/lib/python3.10/dist-packages (from langdetect->ktrain) (1.16.0)\n",
            "Requirement already satisfied: idna<4,>=2.5 in /usr/local/lib/python3.10/dist-packages (from requests->ktrain) (3.6)\n",
            "Requirement already satisfied: urllib3<3,>=1.21.1 in /usr/local/lib/python3.10/dist-packages (from requests->ktrain) (2.0.7)\n",
            "Requirement already satisfied: certifi>=2017.4.17 in /usr/local/lib/python3.10/dist-packages (from requests->ktrain) (2024.2.2)\n",
            "Requirement already satisfied: scipy>=1.3.2 in /usr/local/lib/python3.10/dist-packages (from scikit-learn->ktrain) (1.11.4)\n",
            "Requirement already satisfied: threadpoolctl>=2.0.0 in /usr/local/lib/python3.10/dist-packages (from scikit-learn->ktrain) (3.4.0)\n",
            "Requirement already satisfied: setuptools in /usr/local/lib/python3.10/dist-packages (from tika->ktrain) (67.7.2)\n",
            "Requirement already satisfied: filelock in /usr/local/lib/python3.10/dist-packages (from transformers->ktrain) (3.13.4)\n",
            "Requirement already satisfied: huggingface-hub<1.0,>=0.19.3 in /usr/local/lib/python3.10/dist-packages (from transformers->ktrain) (0.20.3)\n",
            "Requirement already satisfied: pyyaml>=5.1 in /usr/local/lib/python3.10/dist-packages (from transformers->ktrain) (6.0.1)\n",
            "Requirement already satisfied: tokenizers<0.19,>=0.14 in /usr/local/lib/python3.10/dist-packages (from transformers->ktrain) (0.15.2)\n",
            "Requirement already satisfied: safetensors>=0.4.1 in /usr/local/lib/python3.10/dist-packages (from transformers->ktrain) (0.4.2)\n",
            "Requirement already satisfied: tqdm>=4.27 in /usr/local/lib/python3.10/dist-packages (from transformers->ktrain) (4.66.2)\n",
            "Requirement already satisfied: fsspec>=2023.5.0 in /usr/local/lib/python3.10/dist-packages (from huggingface-hub<1.0,>=0.19.3->transformers->ktrain) (2023.6.0)\n",
            "Requirement already satisfied: typing-extensions>=3.7.4.3 in /usr/local/lib/python3.10/dist-packages (from huggingface-hub<1.0,>=0.19.3->transformers->ktrain) (4.11.0)\n"
          ]
        }
      ],
      "source": [
        "!pip3 install ktrain"
      ]
    },
    {
      "cell_type": "code",
      "execution_count": null,
      "metadata": {
        "id": "FYJa3hJiYnWP"
      },
      "outputs": [],
      "source": [
        "import pandas as pd\n",
        "import numpy as np\n",
        "\n",
        "import ktrain\n",
        "from ktrain import text"
      ]
    },
    {
      "cell_type": "code",
      "execution_count": null,
      "metadata": {
        "colab": {
          "base_uri": "https://localhost:8080/"
        },
        "id": "t9EZZelDQvuI",
        "outputId": "c4029828-9155-45fd-ddd9-5ea85a85a806"
      },
      "outputs": [
        {
          "output_type": "stream",
          "name": "stdout",
          "text": [
            "Mounted at /content/drive\n"
          ]
        }
      ],
      "source": [
        "from google.colab import drive\n",
        "drive.mount('/content/drive')"
      ]
    },
    {
      "cell_type": "code",
      "execution_count": null,
      "metadata": {
        "id": "7eJqcUy9Qrgn"
      },
      "outputs": [],
      "source": [
        "data_train = pd.read_csv('/content/drive/MyDrive/MELD/train/train_sent_emo.csv', encoding='utf-8')\n",
        "data_test = pd.read_csv('/content/drive/MyDrive/MELD/test_sent_emo.csv', encoding='utf-8')\n",
        "data_dev = pd.read_csv('/content/drive/MyDrive/MELD/dev_sent_emo.csv', encoding='utf-8')"
      ]
    },
    {
      "cell_type": "markdown",
      "metadata": {
        "id": "33Sa8kVvYnWR"
      },
      "source": [
        "#BASELINE MODEL"
      ]
    },
    {
      "cell_type": "code",
      "execution_count": null,
      "metadata": {
        "colab": {
          "base_uri": "https://localhost:8080/"
        },
        "id": "2GRJBzQCch62",
        "outputId": "da6f43f9-4d3e-4624-b864-454180e0d89e"
      },
      "outputs": [
        {
          "output_type": "stream",
          "name": "stdout",
          "text": [
            "Best max_features value: 300\n",
            "Best accuracy: 0.4580703336339044\n",
            "\n",
            "Classification Report for Best max_features value:\n",
            "              precision    recall  f1-score   support\n",
            "\n",
            "         joy       0.48      0.09      0.15       163\n",
            "     sadness       1.00      0.05      0.09       111\n",
            "        fear       1.00      0.00      0.00        40\n",
            "       anger       0.50      0.01      0.01       153\n",
            "     neutral       0.45      0.97      0.61       470\n",
            "     disgust       1.00      0.00      0.00        22\n",
            "    surprise       0.58      0.21      0.31       150\n",
            "\n",
            "    accuracy                           0.46      1109\n",
            "   macro avg       0.72      0.19      0.17      1109\n",
            "weighted avg       0.56      0.46      0.33      1109\n",
            "\n",
            "\n",
            "Test Accuracy: 0.5191570881226054\n",
            "\n",
            "Classification Report for Test Data:\n",
            "              precision    recall  f1-score   support\n",
            "\n",
            "         joy       0.65      0.11      0.19       402\n",
            "     sadness       0.80      0.02      0.04       208\n",
            "        fear       1.00      0.00      0.00        50\n",
            "       anger       0.62      0.01      0.03       345\n",
            "     neutral       0.51      0.97      0.67      1256\n",
            "     disgust       1.00      0.00      0.00        68\n",
            "    surprise       0.63      0.28      0.39       281\n",
            "\n",
            "    accuracy                           0.52      2610\n",
            "   macro avg       0.75      0.20      0.19      2610\n",
            "weighted avg       0.60      0.52      0.40      2610\n",
            "\n"
          ]
        }
      ],
      "source": [
        "from sklearn.feature_extraction.text import TfidfVectorizer\n",
        "from sklearn.naive_bayes import MultinomialNB\n",
        "from sklearn.metrics import classification_report, accuracy_score\n",
        "\n",
        "X_train = data_train.Utterance.to_list()\n",
        "X_dev = data_dev.Utterance.to_list()\n",
        "X_test = data_test.Utterance.to_list()\n",
        "\n",
        "y_train = data_train.Emotion.to_list()\n",
        "y_dev = data_dev.Emotion.to_list()\n",
        "y_test = data_test.Emotion.to_list()\n",
        "\n",
        "class_names = ['joy', 'sadness', 'fear', 'anger', 'neutral', 'disgust', 'surprise']\n",
        "emotion_to_numeric = {'joy': 0, 'sadness': 1, 'fear': 2, 'anger': 3, 'neutral': 4, 'disgust': 5, 'surprise': 6}\n",
        "y_train = [emotion_to_numeric[label] for label in y_train]\n",
        "y_dev = [emotion_to_numeric[label] for label in y_dev]\n",
        "y_test = [emotion_to_numeric[label] for label in y_test]\n",
        "\n",
        "max_features_values = [100, 300, 500, 1000, 3000, 7000, 12000, 20000]\n",
        "accuracy_scores = []\n",
        "classification_reports = []\n",
        "\n",
        "for max_features in max_features_values:\n",
        "    vectorizer = TfidfVectorizer(max_features=max_features)\n",
        "    X_train_tfidf = vectorizer.fit_transform(X_train)\n",
        "    X_dev_tfidf = vectorizer.transform(X_dev)\n",
        "\n",
        "    classifier = MultinomialNB()\n",
        "    classifier.fit(X_train_tfidf, y_train)\n",
        "\n",
        "    y_pred = classifier.predict(X_dev_tfidf)\n",
        "\n",
        "    accuracy = accuracy_score(y_dev, y_pred)\n",
        "    accuracy_scores.append(accuracy)\n",
        "\n",
        "    classification_report_str = classification_report(y_dev, y_pred, target_names=class_names, zero_division=1)\n",
        "    classification_reports.append(classification_report_str)\n",
        "\n",
        "max_accuracy_idx = np.argmax(accuracy_scores)\n",
        "best_max_features = max_features_values[max_accuracy_idx]\n",
        "best_accuracy = accuracy_scores[max_accuracy_idx]\n",
        "\n",
        "print(\"Best max_features value:\", best_max_features)\n",
        "print(\"Best accuracy:\", best_accuracy)\n",
        "print(\"\\nClassification Report for Best max_features value:\")\n",
        "print(classification_reports[max_accuracy_idx])\n",
        "\n",
        "\n",
        "vectorizer = TfidfVectorizer(max_features=best_max_features)\n",
        "X_train_tfidf = vectorizer.fit_transform(X_train)\n",
        "X_test_tfidf = vectorizer.transform(X_test)\n",
        "classifier = MultinomialNB()\n",
        "classifier.fit(X_train_tfidf, y_train)\n",
        "y_pred_test = classifier.predict(X_test_tfidf)\n",
        "\n",
        "accuracy_test = accuracy_score(y_test, y_pred_test)\n",
        "classification_report_test = classification_report(y_test, y_pred_test, target_names=class_names, zero_division=1)\n",
        "\n",
        "print(\"\\nTest Accuracy:\", accuracy_test)\n",
        "print(\"\\nClassification Report for Test Data:\")\n",
        "print(classification_report_test)\n",
        "\n"
      ]
    },
    {
      "cell_type": "markdown",
      "metadata": {
        "id": "vAhXnojhe1up"
      },
      "source": [
        "#PREPROCESSING"
      ]
    },
    {
      "cell_type": "code",
      "execution_count": null,
      "metadata": {
        "colab": {
          "base_uri": "https://localhost:8080/"
        },
        "id": "o2zwcFefRNwu",
        "outputId": "42908f04-a671-4e4f-badb-d4044d96ce4a"
      },
      "outputs": [
        {
          "output_type": "stream",
          "name": "stdout",
          "text": [
            "Requirement already satisfied: nltk in /usr/local/lib/python3.10/dist-packages (3.8.1)\n",
            "Requirement already satisfied: click in /usr/local/lib/python3.10/dist-packages (from nltk) (8.1.7)\n",
            "Requirement already satisfied: joblib in /usr/local/lib/python3.10/dist-packages (from nltk) (1.4.0)\n",
            "Requirement already satisfied: regex>=2021.8.3 in /usr/local/lib/python3.10/dist-packages (from nltk) (2023.12.25)\n",
            "Requirement already satisfied: tqdm in /usr/local/lib/python3.10/dist-packages (from nltk) (4.66.2)\n",
            "Collecting wordnet\n",
            "  Downloading wordnet-0.0.1b2.tar.gz (8.8 kB)\n",
            "  Preparing metadata (setup.py) ... \u001b[?25l\u001b[?25hdone\n",
            "Collecting colorama==0.3.9 (from wordnet)\n",
            "  Downloading colorama-0.3.9-py2.py3-none-any.whl (20 kB)\n",
            "Building wheels for collected packages: wordnet\n",
            "  Building wheel for wordnet (setup.py) ... \u001b[?25l\u001b[?25hdone\n",
            "  Created wheel for wordnet: filename=wordnet-0.0.1b2-py3-none-any.whl size=10501 sha256=eba5f71584dc98d40af5785ad616372e3edb95d84d064696319e053e9dac8fd3\n",
            "  Stored in directory: /root/.cache/pip/wheels/c0/a1/e8/4649c8712033dcdbd1e64a0fc75216a5d1769665852c36b4f9\n",
            "Successfully built wordnet\n",
            "Installing collected packages: colorama, wordnet\n",
            "Successfully installed colorama-0.3.9 wordnet-0.0.1b2\n"
          ]
        }
      ],
      "source": [
        "!pip install nltk\n",
        "!pip install wordnet"
      ]
    },
    {
      "cell_type": "code",
      "execution_count": null,
      "metadata": {
        "colab": {
          "base_uri": "https://localhost:8080/"
        },
        "id": "vBErHksKRt1k",
        "outputId": "7eeb4c49-18f1-46ff-cfb7-8d86de06a058"
      },
      "outputs": [
        {
          "output_type": "stream",
          "name": "stderr",
          "text": [
            "[nltk_data] Downloading package stopwords to /root/nltk_data...\n",
            "[nltk_data]   Unzipping corpora/stopwords.zip.\n",
            "[nltk_data] Downloading package wordnet to /root/nltk_data...\n"
          ]
        },
        {
          "output_type": "execute_result",
          "data": {
            "text/plain": [
              "True"
            ]
          },
          "metadata": {},
          "execution_count": 8
        }
      ],
      "source": [
        "import nltk\n",
        "import wordnet\n",
        "nltk.download('stopwords')\n",
        "nltk.download('wordnet')"
      ]
    },
    {
      "cell_type": "code",
      "execution_count": null,
      "metadata": {
        "id": "ZW16AxeOQrFp"
      },
      "outputs": [],
      "source": [
        "import re\n",
        "from nltk.stem import WordNetLemmatizer\n",
        "from nltk.corpus import stopwords\n",
        "from nltk.stem import PorterStemmer\n",
        "from collections import Counter\n",
        "\n",
        "def text_preprocess(ds: pd.Series) -> pd.Series:\n",
        "    ds_copy = ds.copy()\n",
        "    stop_words = set(stopwords.words('english'))\n",
        "    stemmer = PorterStemmer()\n",
        "    word_counts = Counter()\n",
        "\n",
        "    for m in range(len(ds_copy)):\n",
        "        main_words = re.sub('[^a-zA-Z]', ' ', ds_copy[m])\n",
        "        main_words = main_words.lower().split()\n",
        "\n",
        "        lem = WordNetLemmatizer()\n",
        "        main_words = [lem.lemmatize(w) for w in main_words if len(w) > 1]\n",
        "        main_words = [stemmer.stem(w) for w in main_words]\n",
        "\n",
        "        main_words = [w for w in main_words if w not in stop_words]\n",
        "        main_words = [w if not w.isdigit() else 'NUM' for w in main_words]\n",
        "\n",
        "        main_words = ' '.join(main_words)\n",
        "        ds_copy[m] = main_words\n",
        "\n",
        "    return ds_copy\n",
        "\n",
        "data_train_processed = data_train\n",
        "data_test_processed = data_test\n",
        "data_train_processed['Utterance'] = text_preprocess(data_train_processed['Utterance'])\n",
        "data_test_processed['Utterance'] = text_preprocess(data_test_processed['Utterance'])"
      ]
    },
    {
      "cell_type": "code",
      "execution_count": null,
      "metadata": {
        "colab": {
          "base_uri": "https://localhost:8080/"
        },
        "id": "9KVI4qcQXxQv",
        "outputId": "bb4992bd-9bf4-44ea-9edf-0be8df4c952d"
      },
      "outputs": [
        {
          "output_type": "stream",
          "name": "stdout",
          "text": [
            "Emotion\n",
            "neutral     4710\n",
            "joy         1743\n",
            "surprise    1205\n",
            "anger       1109\n",
            "fear        1100\n",
            "sadness     1100\n",
            "disgust     1100\n",
            "Name: count, dtype: int64\n"
          ]
        }
      ],
      "source": [
        "fear_data = data_train[data_train['Emotion'] == 'fear']\n",
        "disgust_data = data_train[data_train['Emotion'] == 'disgust']\n",
        "sadness_data = data_train[data_train['Emotion'] == 'sadness']\n",
        "\n",
        "desired_samples = 1100\n",
        "\n",
        "add_fear = desired_samples - len(fear_data)\n",
        "add_disgust = desired_samples - len(disgust_data)\n",
        "add_sadness = desired_samples - len(sadness_data)\n",
        "\n",
        "additional_fear_utterances = fear_data.sample(n=add_fear, replace=True)\n",
        "additional_disgust_utterances = disgust_data.sample(n=add_disgust, replace=True)\n",
        "additional_sadness_utterances = sadness_data.sample(n=add_sadness, replace=True)\n",
        "\n",
        "augmented_data_train = pd.concat([data_train, additional_fear_utterances,\n",
        "                                  additional_disgust_utterances, additional_sadness_utterances],\n",
        "                                 ignore_index=True)\n",
        "\n",
        "print(augmented_data_train['Emotion'].value_counts())"
      ]
    },
    {
      "cell_type": "code",
      "execution_count": null,
      "metadata": {
        "colab": {
          "base_uri": "https://localhost:8080/",
          "height": 484
        },
        "id": "xGRw5awSX7mZ",
        "outputId": "655a2202-0cc9-4e8b-ae49-0f55eae98508"
      },
      "outputs": [
        {
          "output_type": "stream",
          "name": "stdout",
          "text": [
            "size of training set: 9989\n",
            "size of validation set: 2610\n",
            "Emotion\n",
            "neutral     4710\n",
            "joy         1743\n",
            "surprise    1205\n",
            "anger       1109\n",
            "sadness      683\n",
            "disgust      271\n",
            "fear         268\n",
            "Name: count, dtype: int64\n"
          ]
        },
        {
          "output_type": "execute_result",
          "data": {
            "text/plain": [
              "   Sr No.                                          Utterance          Speaker  \\\n",
              "0       1  also wa point person compani transit kl gr system         Chandler   \n",
              "1       2                                     must hand full  The Interviewer   \n",
              "2       3                                                            Chandler   \n",
              "3       4                            let talk littl bit duti  The Interviewer   \n",
              "4       5                                         duti right         Chandler   \n",
              "\n",
              "    Emotion Sentiment  Dialogue_ID  Utterance_ID  Season  Episode  \\\n",
              "0   neutral   neutral            0             0       8       21   \n",
              "1   neutral   neutral            0             1       8       21   \n",
              "2   neutral   neutral            0             2       8       21   \n",
              "3   neutral   neutral            0             3       8       21   \n",
              "4  surprise  positive            0             4       8       21   \n",
              "\n",
              "      StartTime       EndTime  \n",
              "0  00:16:16,059  00:16:21,731  \n",
              "1  00:16:21,940  00:16:23,442  \n",
              "2  00:16:23,442  00:16:26,389  \n",
              "3  00:16:26,820  00:16:29,572  \n",
              "4  00:16:34,452  00:16:40,917  "
            ],
            "text/html": [
              "\n",
              "  <div id=\"df-78cc4f6f-bf66-4dda-b7bc-f4af1cc89449\" class=\"colab-df-container\">\n",
              "    <div>\n",
              "<style scoped>\n",
              "    .dataframe tbody tr th:only-of-type {\n",
              "        vertical-align: middle;\n",
              "    }\n",
              "\n",
              "    .dataframe tbody tr th {\n",
              "        vertical-align: top;\n",
              "    }\n",
              "\n",
              "    .dataframe thead th {\n",
              "        text-align: right;\n",
              "    }\n",
              "</style>\n",
              "<table border=\"1\" class=\"dataframe\">\n",
              "  <thead>\n",
              "    <tr style=\"text-align: right;\">\n",
              "      <th></th>\n",
              "      <th>Sr No.</th>\n",
              "      <th>Utterance</th>\n",
              "      <th>Speaker</th>\n",
              "      <th>Emotion</th>\n",
              "      <th>Sentiment</th>\n",
              "      <th>Dialogue_ID</th>\n",
              "      <th>Utterance_ID</th>\n",
              "      <th>Season</th>\n",
              "      <th>Episode</th>\n",
              "      <th>StartTime</th>\n",
              "      <th>EndTime</th>\n",
              "    </tr>\n",
              "  </thead>\n",
              "  <tbody>\n",
              "    <tr>\n",
              "      <th>0</th>\n",
              "      <td>1</td>\n",
              "      <td>also wa point person compani transit kl gr system</td>\n",
              "      <td>Chandler</td>\n",
              "      <td>neutral</td>\n",
              "      <td>neutral</td>\n",
              "      <td>0</td>\n",
              "      <td>0</td>\n",
              "      <td>8</td>\n",
              "      <td>21</td>\n",
              "      <td>00:16:16,059</td>\n",
              "      <td>00:16:21,731</td>\n",
              "    </tr>\n",
              "    <tr>\n",
              "      <th>1</th>\n",
              "      <td>2</td>\n",
              "      <td>must hand full</td>\n",
              "      <td>The Interviewer</td>\n",
              "      <td>neutral</td>\n",
              "      <td>neutral</td>\n",
              "      <td>0</td>\n",
              "      <td>1</td>\n",
              "      <td>8</td>\n",
              "      <td>21</td>\n",
              "      <td>00:16:21,940</td>\n",
              "      <td>00:16:23,442</td>\n",
              "    </tr>\n",
              "    <tr>\n",
              "      <th>2</th>\n",
              "      <td>3</td>\n",
              "      <td></td>\n",
              "      <td>Chandler</td>\n",
              "      <td>neutral</td>\n",
              "      <td>neutral</td>\n",
              "      <td>0</td>\n",
              "      <td>2</td>\n",
              "      <td>8</td>\n",
              "      <td>21</td>\n",
              "      <td>00:16:23,442</td>\n",
              "      <td>00:16:26,389</td>\n",
              "    </tr>\n",
              "    <tr>\n",
              "      <th>3</th>\n",
              "      <td>4</td>\n",
              "      <td>let talk littl bit duti</td>\n",
              "      <td>The Interviewer</td>\n",
              "      <td>neutral</td>\n",
              "      <td>neutral</td>\n",
              "      <td>0</td>\n",
              "      <td>3</td>\n",
              "      <td>8</td>\n",
              "      <td>21</td>\n",
              "      <td>00:16:26,820</td>\n",
              "      <td>00:16:29,572</td>\n",
              "    </tr>\n",
              "    <tr>\n",
              "      <th>4</th>\n",
              "      <td>5</td>\n",
              "      <td>duti right</td>\n",
              "      <td>Chandler</td>\n",
              "      <td>surprise</td>\n",
              "      <td>positive</td>\n",
              "      <td>0</td>\n",
              "      <td>4</td>\n",
              "      <td>8</td>\n",
              "      <td>21</td>\n",
              "      <td>00:16:34,452</td>\n",
              "      <td>00:16:40,917</td>\n",
              "    </tr>\n",
              "  </tbody>\n",
              "</table>\n",
              "</div>\n",
              "    <div class=\"colab-df-buttons\">\n",
              "\n",
              "  <div class=\"colab-df-container\">\n",
              "    <button class=\"colab-df-convert\" onclick=\"convertToInteractive('df-78cc4f6f-bf66-4dda-b7bc-f4af1cc89449')\"\n",
              "            title=\"Convert this dataframe to an interactive table.\"\n",
              "            style=\"display:none;\">\n",
              "\n",
              "  <svg xmlns=\"http://www.w3.org/2000/svg\" height=\"24px\" viewBox=\"0 -960 960 960\">\n",
              "    <path d=\"M120-120v-720h720v720H120Zm60-500h600v-160H180v160Zm220 220h160v-160H400v160Zm0 220h160v-160H400v160ZM180-400h160v-160H180v160Zm440 0h160v-160H620v160ZM180-180h160v-160H180v160Zm440 0h160v-160H620v160Z\"/>\n",
              "  </svg>\n",
              "    </button>\n",
              "\n",
              "  <style>\n",
              "    .colab-df-container {\n",
              "      display:flex;\n",
              "      gap: 12px;\n",
              "    }\n",
              "\n",
              "    .colab-df-convert {\n",
              "      background-color: #E8F0FE;\n",
              "      border: none;\n",
              "      border-radius: 50%;\n",
              "      cursor: pointer;\n",
              "      display: none;\n",
              "      fill: #1967D2;\n",
              "      height: 32px;\n",
              "      padding: 0 0 0 0;\n",
              "      width: 32px;\n",
              "    }\n",
              "\n",
              "    .colab-df-convert:hover {\n",
              "      background-color: #E2EBFA;\n",
              "      box-shadow: 0px 1px 2px rgba(60, 64, 67, 0.3), 0px 1px 3px 1px rgba(60, 64, 67, 0.15);\n",
              "      fill: #174EA6;\n",
              "    }\n",
              "\n",
              "    .colab-df-buttons div {\n",
              "      margin-bottom: 4px;\n",
              "    }\n",
              "\n",
              "    [theme=dark] .colab-df-convert {\n",
              "      background-color: #3B4455;\n",
              "      fill: #D2E3FC;\n",
              "    }\n",
              "\n",
              "    [theme=dark] .colab-df-convert:hover {\n",
              "      background-color: #434B5C;\n",
              "      box-shadow: 0px 1px 3px 1px rgba(0, 0, 0, 0.15);\n",
              "      filter: drop-shadow(0px 1px 2px rgba(0, 0, 0, 0.3));\n",
              "      fill: #FFFFFF;\n",
              "    }\n",
              "  </style>\n",
              "\n",
              "    <script>\n",
              "      const buttonEl =\n",
              "        document.querySelector('#df-78cc4f6f-bf66-4dda-b7bc-f4af1cc89449 button.colab-df-convert');\n",
              "      buttonEl.style.display =\n",
              "        google.colab.kernel.accessAllowed ? 'block' : 'none';\n",
              "\n",
              "      async function convertToInteractive(key) {\n",
              "        const element = document.querySelector('#df-78cc4f6f-bf66-4dda-b7bc-f4af1cc89449');\n",
              "        const dataTable =\n",
              "          await google.colab.kernel.invokeFunction('convertToInteractive',\n",
              "                                                    [key], {});\n",
              "        if (!dataTable) return;\n",
              "\n",
              "        const docLinkHtml = 'Like what you see? Visit the ' +\n",
              "          '<a target=\"_blank\" href=https://colab.research.google.com/notebooks/data_table.ipynb>data table notebook</a>'\n",
              "          + ' to learn more about interactive tables.';\n",
              "        element.innerHTML = '';\n",
              "        dataTable['output_type'] = 'display_data';\n",
              "        await google.colab.output.renderOutput(dataTable, element);\n",
              "        const docLink = document.createElement('div');\n",
              "        docLink.innerHTML = docLinkHtml;\n",
              "        element.appendChild(docLink);\n",
              "      }\n",
              "    </script>\n",
              "  </div>\n",
              "\n",
              "\n",
              "<div id=\"df-1e9b39e3-064b-4870-be68-437e5975d318\">\n",
              "  <button class=\"colab-df-quickchart\" onclick=\"quickchart('df-1e9b39e3-064b-4870-be68-437e5975d318')\"\n",
              "            title=\"Suggest charts\"\n",
              "            style=\"display:none;\">\n",
              "\n",
              "<svg xmlns=\"http://www.w3.org/2000/svg\" height=\"24px\"viewBox=\"0 0 24 24\"\n",
              "     width=\"24px\">\n",
              "    <g>\n",
              "        <path d=\"M19 3H5c-1.1 0-2 .9-2 2v14c0 1.1.9 2 2 2h14c1.1 0 2-.9 2-2V5c0-1.1-.9-2-2-2zM9 17H7v-7h2v7zm4 0h-2V7h2v10zm4 0h-2v-4h2v4z\"/>\n",
              "    </g>\n",
              "</svg>\n",
              "  </button>\n",
              "\n",
              "<style>\n",
              "  .colab-df-quickchart {\n",
              "      --bg-color: #E8F0FE;\n",
              "      --fill-color: #1967D2;\n",
              "      --hover-bg-color: #E2EBFA;\n",
              "      --hover-fill-color: #174EA6;\n",
              "      --disabled-fill-color: #AAA;\n",
              "      --disabled-bg-color: #DDD;\n",
              "  }\n",
              "\n",
              "  [theme=dark] .colab-df-quickchart {\n",
              "      --bg-color: #3B4455;\n",
              "      --fill-color: #D2E3FC;\n",
              "      --hover-bg-color: #434B5C;\n",
              "      --hover-fill-color: #FFFFFF;\n",
              "      --disabled-bg-color: #3B4455;\n",
              "      --disabled-fill-color: #666;\n",
              "  }\n",
              "\n",
              "  .colab-df-quickchart {\n",
              "    background-color: var(--bg-color);\n",
              "    border: none;\n",
              "    border-radius: 50%;\n",
              "    cursor: pointer;\n",
              "    display: none;\n",
              "    fill: var(--fill-color);\n",
              "    height: 32px;\n",
              "    padding: 0;\n",
              "    width: 32px;\n",
              "  }\n",
              "\n",
              "  .colab-df-quickchart:hover {\n",
              "    background-color: var(--hover-bg-color);\n",
              "    box-shadow: 0 1px 2px rgba(60, 64, 67, 0.3), 0 1px 3px 1px rgba(60, 64, 67, 0.15);\n",
              "    fill: var(--button-hover-fill-color);\n",
              "  }\n",
              "\n",
              "  .colab-df-quickchart-complete:disabled,\n",
              "  .colab-df-quickchart-complete:disabled:hover {\n",
              "    background-color: var(--disabled-bg-color);\n",
              "    fill: var(--disabled-fill-color);\n",
              "    box-shadow: none;\n",
              "  }\n",
              "\n",
              "  .colab-df-spinner {\n",
              "    border: 2px solid var(--fill-color);\n",
              "    border-color: transparent;\n",
              "    border-bottom-color: var(--fill-color);\n",
              "    animation:\n",
              "      spin 1s steps(1) infinite;\n",
              "  }\n",
              "\n",
              "  @keyframes spin {\n",
              "    0% {\n",
              "      border-color: transparent;\n",
              "      border-bottom-color: var(--fill-color);\n",
              "      border-left-color: var(--fill-color);\n",
              "    }\n",
              "    20% {\n",
              "      border-color: transparent;\n",
              "      border-left-color: var(--fill-color);\n",
              "      border-top-color: var(--fill-color);\n",
              "    }\n",
              "    30% {\n",
              "      border-color: transparent;\n",
              "      border-left-color: var(--fill-color);\n",
              "      border-top-color: var(--fill-color);\n",
              "      border-right-color: var(--fill-color);\n",
              "    }\n",
              "    40% {\n",
              "      border-color: transparent;\n",
              "      border-right-color: var(--fill-color);\n",
              "      border-top-color: var(--fill-color);\n",
              "    }\n",
              "    60% {\n",
              "      border-color: transparent;\n",
              "      border-right-color: var(--fill-color);\n",
              "    }\n",
              "    80% {\n",
              "      border-color: transparent;\n",
              "      border-right-color: var(--fill-color);\n",
              "      border-bottom-color: var(--fill-color);\n",
              "    }\n",
              "    90% {\n",
              "      border-color: transparent;\n",
              "      border-bottom-color: var(--fill-color);\n",
              "    }\n",
              "  }\n",
              "</style>\n",
              "\n",
              "  <script>\n",
              "    async function quickchart(key) {\n",
              "      const quickchartButtonEl =\n",
              "        document.querySelector('#' + key + ' button');\n",
              "      quickchartButtonEl.disabled = true;  // To prevent multiple clicks.\n",
              "      quickchartButtonEl.classList.add('colab-df-spinner');\n",
              "      try {\n",
              "        const charts = await google.colab.kernel.invokeFunction(\n",
              "            'suggestCharts', [key], {});\n",
              "      } catch (error) {\n",
              "        console.error('Error during call to suggestCharts:', error);\n",
              "      }\n",
              "      quickchartButtonEl.classList.remove('colab-df-spinner');\n",
              "      quickchartButtonEl.classList.add('colab-df-quickchart-complete');\n",
              "    }\n",
              "    (() => {\n",
              "      let quickchartButtonEl =\n",
              "        document.querySelector('#df-1e9b39e3-064b-4870-be68-437e5975d318 button');\n",
              "      quickchartButtonEl.style.display =\n",
              "        google.colab.kernel.accessAllowed ? 'block' : 'none';\n",
              "    })();\n",
              "  </script>\n",
              "</div>\n",
              "    </div>\n",
              "  </div>\n"
            ],
            "application/vnd.google.colaboratory.intrinsic+json": {
              "type": "dataframe",
              "variable_name": "data",
              "summary": "{\n  \"name\": \"data\",\n  \"rows\": 9989,\n  \"fields\": [\n    {\n      \"column\": \"Sr No.\",\n      \"properties\": {\n        \"dtype\": \"number\",\n        \"std\": 3032,\n        \"min\": 1,\n        \"max\": 10478,\n        \"num_unique_values\": 9932,\n        \"samples\": [\n          8641,\n          9028,\n          1710\n        ],\n        \"semantic_type\": \"\",\n        \"description\": \"\"\n      }\n    },\n    {\n      \"column\": \"Utterance\",\n      \"properties\": {\n        \"dtype\": \"string\",\n        \"num_unique_values\": 7824,\n        \"samples\": [\n          \"mean like buy togeth\",\n          \"well monica danc wa first time knew woman want danc danc\",\n          \"like drum\"\n        ],\n        \"semantic_type\": \"\",\n        \"description\": \"\"\n      }\n    },\n    {\n      \"column\": \"Speaker\",\n      \"properties\": {\n        \"dtype\": \"category\",\n        \"num_unique_values\": 260,\n        \"samples\": [\n          \"Dina\",\n          \"Paolo\",\n          \"Cecilia\"\n        ],\n        \"semantic_type\": \"\",\n        \"description\": \"\"\n      }\n    },\n    {\n      \"column\": \"Emotion\",\n      \"properties\": {\n        \"dtype\": \"category\",\n        \"num_unique_values\": 7,\n        \"samples\": [\n          \"neutral\",\n          \"surprise\",\n          \"disgust\"\n        ],\n        \"semantic_type\": \"\",\n        \"description\": \"\"\n      }\n    },\n    {\n      \"column\": \"Sentiment\",\n      \"properties\": {\n        \"dtype\": \"category\",\n        \"num_unique_values\": 3,\n        \"samples\": [\n          \"neutral\",\n          \"positive\",\n          \"negative\"\n        ],\n        \"semantic_type\": \"\",\n        \"description\": \"\"\n      }\n    },\n    {\n      \"column\": \"Dialogue_ID\",\n      \"properties\": {\n        \"dtype\": \"number\",\n        \"std\": 302,\n        \"min\": 0,\n        \"max\": 1038,\n        \"num_unique_values\": 1038,\n        \"samples\": [\n          200,\n          918,\n          537\n        ],\n        \"semantic_type\": \"\",\n        \"description\": \"\"\n      }\n    },\n    {\n      \"column\": \"Utterance_ID\",\n      \"properties\": {\n        \"dtype\": \"number\",\n        \"std\": 4,\n        \"min\": 0,\n        \"max\": 23,\n        \"num_unique_values\": 24,\n        \"samples\": [\n          8,\n          16,\n          0\n        ],\n        \"semantic_type\": \"\",\n        \"description\": \"\"\n      }\n    },\n    {\n      \"column\": \"Season\",\n      \"properties\": {\n        \"dtype\": \"number\",\n        \"std\": 2,\n        \"min\": 1,\n        \"max\": 9,\n        \"num_unique_values\": 9,\n        \"samples\": [\n          1,\n          9,\n          5\n        ],\n        \"semantic_type\": \"\",\n        \"description\": \"\"\n      }\n    },\n    {\n      \"column\": \"Episode\",\n      \"properties\": {\n        \"dtype\": \"number\",\n        \"std\": 7,\n        \"min\": 1,\n        \"max\": 25,\n        \"num_unique_values\": 25,\n        \"samples\": [\n          5,\n          14,\n          21\n        ],\n        \"semantic_type\": \"\",\n        \"description\": \"\"\n      }\n    },\n    {\n      \"column\": \"StartTime\",\n      \"properties\": {\n        \"dtype\": \"object\",\n        \"num_unique_values\": 9008,\n        \"samples\": [\n          \"00:18:12,382\",\n          \"00:11:21,597\",\n          \"00:11:58,217\"\n        ],\n        \"semantic_type\": \"\",\n        \"description\": \"\"\n      }\n    },\n    {\n      \"column\": \"EndTime\",\n      \"properties\": {\n        \"dtype\": \"object\",\n        \"num_unique_values\": 8959,\n        \"samples\": [\n          \"00:02:06,333\",\n          \"0:19:18,790\",\n          \"00:15:24,839\"\n        ],\n        \"semantic_type\": \"\",\n        \"description\": \"\"\n      }\n    }\n  ]\n}"
            }
          },
          "metadata": {},
          "execution_count": 11
        }
      ],
      "source": [
        "X_train = data_train.Utterance.to_list()\n",
        "X_test = data_test.Utterance.to_list()\n",
        "X_val = data_dev.Utterance.to_list()\n",
        "\n",
        "y_train = data_train.Emotion.to_list()\n",
        "y_test = data_test.Emotion.to_list()\n",
        "y_val = data_dev.Emotion.to_list()\n",
        "\n",
        "data = data_train\n",
        "\n",
        "print('size of training set: %s' % (len(data_train['Utterance'])))\n",
        "print('size of validation set: %s' % (len(data_test['Utterance'])))\n",
        "print(data.Emotion.value_counts())\n",
        "\n",
        "data.head(5)"
      ]
    },
    {
      "cell_type": "markdown",
      "metadata": {
        "id": "7zIOifi9k9LD"
      },
      "source": [
        "#REGULAR BERT"
      ]
    },
    {
      "cell_type": "code",
      "execution_count": null,
      "metadata": {
        "colab": {
          "base_uri": "https://localhost:8080/",
          "height": 349
        },
        "id": "IQnZnKQmZA3U",
        "outputId": "c53cf31a-db09-49a4-9b3d-9e8db09c5de1"
      },
      "outputs": [
        {
          "output_type": "stream",
          "name": "stdout",
          "text": [
            "downloading pretrained BERT model (uncased_L-12_H-768_A-12.zip)...\n",
            "[██████████████████████████████████████████████████]\n",
            "extracting pretrained BERT model...\n",
            "done.\n",
            "\n",
            "cleanup downloaded zip...\n",
            "done.\n",
            "\n",
            "preprocessing train...\n",
            "language: en\n"
          ]
        },
        {
          "output_type": "display_data",
          "data": {
            "text/plain": [
              "<IPython.core.display.HTML object>"
            ],
            "text/html": [
              "\n",
              "<style>\n",
              "    /* Turns off some styling */\n",
              "    progress {\n",
              "        /* gets rid of default border in Firefox and Opera. */\n",
              "        border: none;\n",
              "        /* Needs to be in here for Safari polyfill so background images work as expected. */\n",
              "        background-size: auto;\n",
              "    }\n",
              "    progress:not([value]), progress:not([value])::-webkit-progress-bar {\n",
              "        background: repeating-linear-gradient(45deg, #7e7e7e, #7e7e7e 10px, #5c5c5c 10px, #5c5c5c 20px);\n",
              "    }\n",
              "    .progress-bar-interrupted, .progress-bar-interrupted::-webkit-progress-bar {\n",
              "        background: #F44336;\n",
              "    }\n",
              "</style>\n"
            ]
          },
          "metadata": {}
        },
        {
          "output_type": "display_data",
          "data": {
            "text/plain": [
              "<IPython.core.display.HTML object>"
            ],
            "text/html": [
              "done."
            ]
          },
          "metadata": {}
        },
        {
          "output_type": "stream",
          "name": "stdout",
          "text": [
            "Is Multi-Label? False\n",
            "preprocessing test...\n",
            "language: en\n"
          ]
        },
        {
          "output_type": "stream",
          "name": "stderr",
          "text": [
            "/usr/local/lib/python3.10/dist-packages/ktrain/utils.py:744: UserWarning: class_names argument was ignored, as they were extracted from string labels in dataset\n",
            "  warnings.warn(\n"
          ]
        },
        {
          "output_type": "display_data",
          "data": {
            "text/plain": [
              "<IPython.core.display.HTML object>"
            ],
            "text/html": [
              "\n",
              "<style>\n",
              "    /* Turns off some styling */\n",
              "    progress {\n",
              "        /* gets rid of default border in Firefox and Opera. */\n",
              "        border: none;\n",
              "        /* Needs to be in here for Safari polyfill so background images work as expected. */\n",
              "        background-size: auto;\n",
              "    }\n",
              "    progress:not([value]), progress:not([value])::-webkit-progress-bar {\n",
              "        background: repeating-linear-gradient(45deg, #7e7e7e, #7e7e7e 10px, #5c5c5c 10px, #5c5c5c 20px);\n",
              "    }\n",
              "    .progress-bar-interrupted, .progress-bar-interrupted::-webkit-progress-bar {\n",
              "        background: #F44336;\n",
              "    }\n",
              "</style>\n"
            ]
          },
          "metadata": {}
        },
        {
          "output_type": "display_data",
          "data": {
            "text/plain": [
              "<IPython.core.display.HTML object>"
            ],
            "text/html": [
              "done."
            ]
          },
          "metadata": {}
        },
        {
          "output_type": "stream",
          "name": "stdout",
          "text": [
            "task: text classification\n"
          ]
        }
      ],
      "source": [
        "(x_train,  y_train), (x_test, y_test), preproc = text.texts_from_array(x_train=X_train, y_train=y_train,\n",
        "                                                                       x_test=X_test, y_test=y_test,\n",
        "                                                                       class_names=class_names,\n",
        "                                                                       preprocess_mode='bert',\n",
        "                                                                       maxlen=350,\n",
        "                                                                       max_features=35000)"
      ]
    },
    {
      "cell_type": "code",
      "execution_count": null,
      "metadata": {
        "colab": {
          "base_uri": "https://localhost:8080/"
        },
        "id": "1cGb2CaOZBNS",
        "outputId": "99b4e2d8-0f2c-40fe-e4cf-85a225ba5237"
      },
      "outputs": [
        {
          "output_type": "stream",
          "name": "stdout",
          "text": [
            "Is Multi-Label? False\n",
            "maxlen is 350\n"
          ]
        },
        {
          "output_type": "stream",
          "name": "stderr",
          "text": [
            "/usr/local/lib/python3.10/dist-packages/keras/src/initializers/initializers.py:120: UserWarning: The initializer GlorotNormal is unseeded and being called multiple times, which will return identical values each time (even if the initializer is unseeded). Please update your code to provide a seed to the initializer, or avoid using the same initializer instance more than once.\n",
            "  warnings.warn(\n"
          ]
        },
        {
          "output_type": "stream",
          "name": "stdout",
          "text": [
            "done.\n"
          ]
        }
      ],
      "source": [
        "model = text.text_classifier('bert', train_data=(x_train, y_train), preproc=preproc)"
      ]
    },
    {
      "cell_type": "code",
      "execution_count": null,
      "metadata": {
        "id": "zu8uv-xKYnWc"
      },
      "outputs": [],
      "source": [
        "learner = ktrain.get_learner(model, train_data=(x_train, y_train),\n",
        "                             val_data=(x_test, y_test),\n",
        "                             batch_size=12)"
      ]
    },
    {
      "cell_type": "code",
      "execution_count": null,
      "metadata": {
        "colab": {
          "base_uri": "https://localhost:8080/"
        },
        "id": "jD-2RpgkZN_n",
        "outputId": "d9eea51c-597c-409f-ea55-8f8b21bbadf4"
      },
      "outputs": [
        {
          "output_type": "stream",
          "name": "stdout",
          "text": [
            "\n",
            "\n",
            "begin training using onecycle policy with max lr of 2e-05...\n",
            "Epoch 1/3\n",
            " 38/833 [>.............................] - ETA: 3:21:27 - loss: 2.2215 - accuracy: 0.1491"
          ]
        }
      ],
      "source": [
        "learner.fit_onecycle(2e-5, 3)"
      ]
    },
    {
      "cell_type": "code",
      "execution_count": null,
      "metadata": {
        "id": "2s4ao_e2i4ld"
      },
      "outputs": [],
      "source": [
        "learner.validate(val_data=(x_test, y_test), class_names=class_names)"
      ]
    },
    {
      "cell_type": "code",
      "execution_count": null,
      "metadata": {
        "id": "6eDpFIoXjlE8"
      },
      "outputs": [],
      "source": [
        "predictor = ktrain.get_predictor(learner.model, preproc)\n",
        "predictor.get_classes()"
      ]
    },
    {
      "cell_type": "code",
      "execution_count": null,
      "metadata": {
        "id": "w5KQfwX8xLLu"
      },
      "outputs": [],
      "source": [
        "import time\n",
        "\n",
        "message = 'I just broke my knee'\n",
        "\n",
        "start_time = time.time()\n",
        "prediction = predictor.predict(message)\n",
        "\n",
        "print('predicted: {} ({:.2f})'.format(prediction, (time.time() - start_time)))"
      ]
    },
    {
      "cell_type": "markdown",
      "source": [
        "```\n",
        "        82/82 [==============================] - 845 969ms/ step\n",
        "                      precision    recall  f1-score   support\n",
        "\n",
        "                joy       0.57      0.60      0.58       402\n",
        "            sadness       0.41      0.27      0.33       208\n",
        "               fear       0.22      0.16      0.19        50\n",
        "              anger       0.49      0.43      0.46       345\n",
        "            neutral       0.75      0.81      0.78      1256\n",
        "            disgust       0.34      0.16      0.22        68\n",
        "           surprise       0.53      0.62      0.57       281\n",
        "\n",
        "           accuracy                           0.63      2610\n",
        "          macro avg       0.48      0.44      0.45      2610\n",
        "       weighted avg       0.62      0.63      0.62      2610\n",
        "\n",
        "         array([[ 235,   10,    2,   24,   98,    0,   33],\n",
        "                [  16,   59,    9,   18,   88,    4,   14],\n",
        "                [   3,    5,    7,    9,   19,    0,    7],\n",
        "                [  43,   16,    6,  148,   76,    5,   51],\n",
        "                [  73,   49,   14,   40, 1027,    3,   50],\n",
        "                [   3,    6,    2,   12,   29,    9,    7],\n",
        "                [  31,    9,    2,   31,   42,    1,  165]])\n",
        "```"
      ],
      "metadata": {
        "id": "ehtwtsuIkr5B"
      }
    },
    {
      "cell_type": "markdown",
      "metadata": {
        "id": "3492e_9wlGo0"
      },
      "source": [
        "#RANDOM SAMPLING BERT"
      ]
    },
    {
      "cell_type": "code",
      "execution_count": null,
      "metadata": {
        "id": "NGc24lbflbOl"
      },
      "outputs": [],
      "source": [
        "X_train = augmented_data_train.Utterance.to_list()\n",
        "X_test = data_test.Utterance.to_list()\n",
        "X_val = data_dev.Utterance.to_list()\n",
        "\n",
        "y_train = augmented_data_train.Emotion.to_list()\n",
        "y_test = data_test.Emotion.to_list()\n",
        "y_val = data_dev.Emotion.to_list()\n",
        "\n",
        "data = data_train\n",
        "\n",
        "print('size of training set: %s' % (len(data_train['Utterance'])))\n",
        "print('size of validation set: %s' % (len(data_test['Utterance'])))\n",
        "print(data.Emotion.value_counts())\n",
        "\n",
        "data.head(5)"
      ]
    },
    {
      "cell_type": "code",
      "execution_count": null,
      "metadata": {
        "id": "CpIROC-EmbN-"
      },
      "outputs": [],
      "source": [
        "(x_train,  y_train), (x_test, y_test), preproc2 = text.texts_from_array(x_train=X_train, y_train=y_train,\n",
        "                                                                       x_test=X_test, y_test=y_test,\n",
        "                                                                       class_names=class_names,\n",
        "                                                                       preprocess_mode='bert',\n",
        "                                                                       maxlen=350,\n",
        "                                                                       max_features=35000)"
      ]
    },
    {
      "cell_type": "code",
      "execution_count": null,
      "metadata": {
        "id": "yQITYDkElGpH"
      },
      "outputs": [],
      "source": [
        "model2 = text.text_classifier('bert', train_data=(x_train, y_train), preproc=preproc2)"
      ]
    },
    {
      "cell_type": "code",
      "execution_count": null,
      "metadata": {
        "id": "-HG11P7ilGpI"
      },
      "outputs": [],
      "source": [
        "learner2 = ktrain.get_learner(model2, train_data=(x_train, y_train),\n",
        "                             val_data=(x_test, y_test),\n",
        "                             batch_size=12)"
      ]
    },
    {
      "cell_type": "code",
      "execution_count": null,
      "metadata": {
        "id": "pAu7MrtIlGpI"
      },
      "outputs": [],
      "source": [
        "learner2.fit_onecycle(2e-5, 3)"
      ]
    },
    {
      "cell_type": "code",
      "execution_count": null,
      "metadata": {
        "id": "jP_oscGTlGpJ"
      },
      "outputs": [],
      "source": [
        "learner2.validate(val_data=(x_test, y_test), class_names=class_names)"
      ]
    },
    {
      "cell_type": "markdown",
      "source": [
        "```\n",
        "\t\t82/82 [==============================] - 31s 262ms/step\n",
        "\t\t              precision    recall  f1-score   support\n",
        "\n",
        "\t\t         joy       0.58      0.58      0.58       402\n",
        "\t\t     sadness       0.38      0.28      0.33       208\n",
        "\t\t        fear       0.17      0.14      0.15        50\n",
        "\t\t       anger       0.52      0.43      0.47       345\n",
        "\t\t     neutral       0.74      0.82      0.78      1256\n",
        "\t\t     disgust       0.41      0.13      0.20        68\n",
        "\t\t    surprise       0.50      0.59      0.54       281\n",
        "\n",
        "\t\t    accuracy                           0.63      2610\n",
        "\t\t   macro avg       0.47      0.42      0.44      2610\n",
        "\t\tweighted avg       0.62      0.63      0.62      2610\n",
        "\n",
        "\t\tarray([[ 235,   10,    2,   24,   98,    0,   33],\n",
        "\t\t       [  16,   59,    9,   18,   88,    4,   14],\n",
        "\t\t       [   3,    5,    7,    9,   19,    0,    7],\n",
        "\t\t       [  43,   16,    6,  148,   76,    5,   51],\n",
        "\t\t       [  73,   49,   14,   40, 1027,    3,   50],\n",
        "\t\t       [   3,    6,    2,   12,   29,    9,    7],\n",
        "\t\t       [  31,    9,    2,   31,   42,    1,  165]])\n",
        "\n",
        "```\n",
        "\n"
      ],
      "metadata": {
        "id": "4kLdhtg7iIEu"
      }
    },
    {
      "cell_type": "code",
      "execution_count": null,
      "metadata": {
        "id": "ZmSu19r4lGpJ"
      },
      "outputs": [],
      "source": [
        "predictor2 = ktrain.get_predictor(learner2.model, preproc2)\n",
        "predictor2.get_classes()"
      ]
    },
    {
      "cell_type": "code",
      "execution_count": null,
      "metadata": {
        "id": "1AEOXZoTlGpK"
      },
      "outputs": [],
      "source": [
        "import time\n",
        "\n",
        "message = 'I just broke my knee'\n",
        "\n",
        "start_time = time.time()\n",
        "prediction = predictor2.predict(message)\n",
        "\n",
        "print('predicted: {} ({:.2f})'.format(prediction, (time.time() - start_time)))"
      ]
    },
    {
      "cell_type": "markdown",
      "metadata": {
        "id": "X_U0QToIlHmf"
      },
      "source": [
        "#PREPROCESSED BERT"
      ]
    },
    {
      "cell_type": "code",
      "execution_count": null,
      "metadata": {
        "id": "zNkAYqsVlkp2"
      },
      "outputs": [],
      "source": [
        "X_train = data_train_processed.Utterance.to_list()\n",
        "X_test = data_test_processed.Utterance.to_list()\n",
        "X_val = data_dev.Utterance.to_list()\n",
        "\n",
        "y_train = data_train_processed.Emotion.to_list()\n",
        "y_test = data_test_processed.Emotion.to_list()\n",
        "y_val = data_dev.Emotion.to_list()\n",
        "\n",
        "data = data_train\n",
        "\n",
        "print('size of training set: %s' % (len(data_train['Utterance'])))\n",
        "print('size of validation set: %s' % (len(data_test['Utterance'])))\n",
        "print(data.Emotion.value_counts())\n",
        "\n",
        "data.head(5)"
      ]
    },
    {
      "cell_type": "code",
      "execution_count": null,
      "metadata": {
        "id": "cKRYdCfIlGpK"
      },
      "outputs": [],
      "source": [
        "(x_train,  y_train), (x_test, y_test), preproc3 = text.texts_from_array(x_train=X_train, y_train=y_train,\n",
        "                                                                       x_test=X_test, y_test=y_test,\n",
        "                                                                       class_names=class_names,\n",
        "                                                                       preprocess_mode='bert',\n",
        "                                                                       maxlen=350,\n",
        "                                                                       max_features=35000)"
      ]
    },
    {
      "cell_type": "code",
      "execution_count": null,
      "metadata": {
        "id": "g83CdXsOlHnA"
      },
      "outputs": [],
      "source": [
        "model3 = text.text_classifier('bert', train_data=(x_train, y_train), preproc=preproc3)"
      ]
    },
    {
      "cell_type": "code",
      "execution_count": null,
      "metadata": {
        "id": "ERwWDhXxlHnA"
      },
      "outputs": [],
      "source": [
        "learner3 = ktrain.get_learner(model3, train_data=(x_train, y_train),\n",
        "                             val_data=(x_test, y_test),\n",
        "                             batch_size=12)"
      ]
    },
    {
      "cell_type": "code",
      "execution_count": null,
      "metadata": {
        "id": "69--oglXlHnB"
      },
      "outputs": [],
      "source": [
        "learner3.fit_onecycle(2e-5, 3)"
      ]
    },
    {
      "cell_type": "code",
      "execution_count": null,
      "metadata": {
        "id": "AE3XND56lHnB"
      },
      "outputs": [],
      "source": [
        "learner3.validate(val_data=(x_test, y_test), class_names=class_names)"
      ]
    },
    {
      "cell_type": "code",
      "execution_count": null,
      "metadata": {
        "id": "n6E536WjlHnB"
      },
      "outputs": [],
      "source": [
        "predictor3 = ktrain.get_predictor(learner3.model, preproc3)\n",
        "predictor3.get_classes()"
      ]
    },
    {
      "cell_type": "code",
      "execution_count": null,
      "metadata": {
        "id": "NtIO4cNYlHnB"
      },
      "outputs": [],
      "source": [
        "import time\n",
        "\n",
        "message = 'I just broke my knee'\n",
        "\n",
        "start_time = time.time()\n",
        "prediction = predictor.predict(message)\n",
        "\n",
        "print('predicted: {} ({:.2f})'.format(prediction, (time.time() - start_time)))"
      ]
    },
    {
      "cell_type": "markdown",
      "source": [
        "\t\t```\n",
        "    82/82 [==============================] - 25s 260ms/step\n",
        "\t\t              precision    recall  f1-score   support\n",
        "\n",
        "\t\t         joy       0.52      0.53      0.53       402\n",
        "\t\t     sadness       0.33      0.07      0.12       208\n",
        "\t\t        fear       0.06      0.20      0.09        50\n",
        "\t\t       anger       0.60      0.17      0.26       345\n",
        "\t\t     neutral       0.67      0.82      0.74      1256\n",
        "\t\t     disgust       0.48      0.15      0.22        68\n",
        "\t\t    surprise       0.43      0.48      0.45       281\n",
        "\n",
        "\t\t    accuracy                           0.56      2610\n",
        "\t\t   macro avg       0.44      0.35      0.34      2610\n",
        "\t\tweighted avg       0.57      0.56      0.54      2610\n",
        "\n",
        "\t\tarray([[ 215,    4,    8,    8,  144,    1,   22],\n",
        "\t\t       [  15,   15,   24,    7,  116,    2,   29],\n",
        "\t\t       [   5,    1,   10,    2,   27,    0,    5],\n",
        "\t\t       [  58,    9,   30,   58,  132,    4,   54],\n",
        "\t\t       [  84,    8,   54,   14, 1031,    4,   61],\n",
        "\t\t       [   3,    4,    7,    3,   31,   10,   10],\n",
        "\t\t       [  34,    4,   40,    5,   63,    0,  135]])\n",
        "           ```"
      ],
      "metadata": {
        "id": "Xq9Fdxy0lQIF"
      }
    },
    {
      "cell_type": "markdown",
      "metadata": {
        "id": "rusM_SzpYnWm"
      },
      "source": [
        "#SAVING THE MODEL\n"
      ]
    },
    {
      "cell_type": "code",
      "execution_count": null,
      "metadata": {
        "id": "YBkGko4Sz2ef"
      },
      "outputs": [],
      "source": [
        "# let's save the predictor for later use\n",
        "predictor.save(\"models/bert_model\")"
      ]
    }
  ],
  "metadata": {
    "accelerator": "GPU",
    "colab": {
      "gpuType": "L4",
      "machine_shape": "hm",
      "provenance": []
    },
    "kernelspec": {
      "display_name": "Python 3",
      "name": "python3"
    },
    "language_info": {
      "codemirror_mode": {
        "name": "ipython",
        "version": 3
      },
      "file_extension": ".py",
      "mimetype": "text/x-python",
      "name": "python",
      "nbconvert_exporter": "python",
      "pygments_lexer": "ipython3",
      "version": "3.7.1"
    }
  },
  "nbformat": 4,
  "nbformat_minor": 0
}